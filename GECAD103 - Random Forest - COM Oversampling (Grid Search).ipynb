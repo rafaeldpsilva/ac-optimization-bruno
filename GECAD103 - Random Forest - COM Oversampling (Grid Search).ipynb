{
 "cells": [
  {
   "cell_type": "code",
   "execution_count": 6,
   "id": "8b7dfaf0",
   "metadata": {},
   "outputs": [],
   "source": [
    "import pandas as pd\n",
    "from sklearn.model_selection import train_test_split, GridSearchCV\n",
    "from sklearn.ensemble import RandomForestClassifier\n",
    "from sklearn.metrics import accuracy_score\n",
    "from sklearn.metrics import confusion_matrix, precision_score, recall_score, f1_score\n",
    "from sklearn.model_selection import cross_val_score\n",
    "import matplotlib.pyplot as plt\n",
    "from imblearn.over_sampling import SMOTE\n",
    "import tkinter as tk"
   ]
  },
  {
   "cell_type": "code",
   "execution_count": 2,
   "id": "780b5b29",
   "metadata": {},
   "outputs": [
    {
     "data": {
      "text/html": [
       "<div>\n",
       "<style scoped>\n",
       "    .dataframe tbody tr th:only-of-type {\n",
       "        vertical-align: middle;\n",
       "    }\n",
       "\n",
       "    .dataframe tbody tr th {\n",
       "        vertical-align: top;\n",
       "    }\n",
       "\n",
       "    .dataframe thead th {\n",
       "        text-align: right;\n",
       "    }\n",
       "</style>\n",
       "<table border=\"1\" class=\"dataframe\">\n",
       "  <thead>\n",
       "    <tr style=\"text-align: right;\">\n",
       "      <th></th>\n",
       "      <th>Outside temperature (x10)(ºC)</th>\n",
       "      <th>Temperature 103 (x10)(ºC)</th>\n",
       "      <th>Humidity 103 (x10)(%)</th>\n",
       "      <th>Heat Index 103 (x10)(ºC)</th>\n",
       "      <th>Occupation</th>\n",
       "      <th>AC status 103 (bool)</th>\n",
       "    </tr>\n",
       "  </thead>\n",
       "  <tbody>\n",
       "    <tr>\n",
       "      <th>0</th>\n",
       "      <td>177</td>\n",
       "      <td>189</td>\n",
       "      <td>588</td>\n",
       "      <td>174.884999</td>\n",
       "      <td>0</td>\n",
       "      <td>0</td>\n",
       "    </tr>\n",
       "    <tr>\n",
       "      <th>1</th>\n",
       "      <td>177</td>\n",
       "      <td>189</td>\n",
       "      <td>587</td>\n",
       "      <td>174.881376</td>\n",
       "      <td>0</td>\n",
       "      <td>0</td>\n",
       "    </tr>\n",
       "    <tr>\n",
       "      <th>2</th>\n",
       "      <td>177</td>\n",
       "      <td>189</td>\n",
       "      <td>588</td>\n",
       "      <td>174.884999</td>\n",
       "      <td>0</td>\n",
       "      <td>0</td>\n",
       "    </tr>\n",
       "    <tr>\n",
       "      <th>3</th>\n",
       "      <td>177</td>\n",
       "      <td>189</td>\n",
       "      <td>587</td>\n",
       "      <td>174.881376</td>\n",
       "      <td>0</td>\n",
       "      <td>0</td>\n",
       "    </tr>\n",
       "    <tr>\n",
       "      <th>4</th>\n",
       "      <td>176</td>\n",
       "      <td>189</td>\n",
       "      <td>587</td>\n",
       "      <td>174.881376</td>\n",
       "      <td>0</td>\n",
       "      <td>0</td>\n",
       "    </tr>\n",
       "  </tbody>\n",
       "</table>\n",
       "</div>"
      ],
      "text/plain": [
       "   Outside temperature (x10)(ºC)  Temperature 103 (x10)(ºC)  \\\n",
       "0                            177                        189   \n",
       "1                            177                        189   \n",
       "2                            177                        189   \n",
       "3                            177                        189   \n",
       "4                            176                        189   \n",
       "\n",
       "   Humidity 103 (x10)(%)  Heat Index 103 (x10)(ºC)  Occupation   \\\n",
       "0                    588                174.884999            0   \n",
       "1                    587                174.881376            0   \n",
       "2                    588                174.884999            0   \n",
       "3                    587                174.881376            0   \n",
       "4                    587                174.881376            0   \n",
       "\n",
       "   AC status 103 (bool)  \n",
       "0                     0  \n",
       "1                     0  \n",
       "2                     0  \n",
       "3                     0  \n",
       "4                     0  "
      ]
     },
     "execution_count": 2,
     "metadata": {},
     "output_type": "execute_result"
    }
   ],
   "source": [
    "#Carregar dados\n",
    "data_set = pd.read_excel('C:\\\\Users\\\\Bruno Ribeiro\\\\Desktop\\\\tese\\\\Bases de dados\\\\Sala 103\\\\Base_dados_103_clean.xlsx')\n",
    "data_set.head()"
   ]
  },
  {
   "cell_type": "code",
   "execution_count": 3,
   "id": "4eae6fa0",
   "metadata": {},
   "outputs": [
    {
     "name": "stdout",
     "output_type": "stream",
     "text": [
      "Tamanho base de dados original: 103949\n"
     ]
    }
   ],
   "source": [
    "print(\"Tamanho base de dados original:\", len(data_set))"
   ]
  },
  {
   "cell_type": "code",
   "execution_count": 4,
   "id": "5486a99b",
   "metadata": {},
   "outputs": [],
   "source": [
    "#Oversampling \n",
    "X = data_set[['Outside temperature (x10)(ºC)', 'Temperature 103 (x10)(ºC)', 'Humidity 103 (x10)(%)', 'Heat Index 103 (x10)(ºC)', 'Occupation ']]\n",
    "y = data_set['AC status 103 (bool)']\n",
    "smote = SMOTE(random_state=42)\n",
    "X_resampled, y_resampled = smote.fit_resample(X, y)"
   ]
  },
  {
   "cell_type": "code",
   "execution_count": 5,
   "id": "ed0f4d89",
   "metadata": {},
   "outputs": [
    {
     "name": "stdout",
     "output_type": "stream",
     "text": [
      "Tamanho base de dados após oversampling: 307437\n"
     ]
    }
   ],
   "source": [
    "#Tamanho base de dados após oversampling\n",
    "print(\"Tamanho base de dados após oversampling:\", len(X_resampled))"
   ]
  },
  {
   "cell_type": "code",
   "execution_count": 6,
   "id": "f13b56da",
   "metadata": {},
   "outputs": [],
   "source": [
    "#Divisão dados treino + teste\n",
    "X_train, X_test, y_train, y_test = train_test_split(X_resampled, y_resampled, test_size=0.19, random_state=42)"
   ]
  },
  {
   "cell_type": "code",
   "execution_count": 7,
   "id": "57436c7b",
   "metadata": {},
   "outputs": [],
   "source": [
    "#Definir os parâmetros para o Grid Search\n",
    "param_grid = {\n",
    "    'n_estimators': [50, 100, 150],\n",
    "    'max_depth': [None, 10, 20],\n",
    "    'min_samples_split': [2, 5, 10],\n",
    "    'min_samples_leaf': [1, 2, 4]\n",
    "}\n",
    "\n",
    "#classificador RandomForest\n",
    "rf_clf = RandomForestClassifier(random_state=42)\n",
    "\n",
    "#Grid Search\n",
    "grid_search = GridSearchCV(estimator=rf_clf,\n",
    "                           param_grid=param_grid,\n",
    "                           cv=5,\n",
    "                           scoring='accuracy',\n",
    "                           n_jobs=-1)\n"
   ]
  },
  {
   "cell_type": "code",
   "execution_count": 8,
   "id": "0edee3ad",
   "metadata": {},
   "outputs": [
    {
     "name": "stdout",
     "output_type": "stream",
     "text": [
      "Melhores hiperparâmetros: {'max_depth': None, 'min_samples_leaf': 1, 'min_samples_split': 2, 'n_estimators': 100}\n",
      "Melhor pontuação de validação cruzada: 0.992241678777253\n"
     ]
    }
   ],
   "source": [
    "#Treinar modelo \n",
    "grid_search.fit(X_train, y_train)\n",
    "#melhores hiperparâmetros encontrados\n",
    "print(\"Melhores hiperparâmetros:\", grid_search.best_params_)\n",
    "print(\"Melhor pontuação de validação cruzada:\", grid_search.best_score_)"
   ]
  },
  {
   "cell_type": "code",
   "execution_count": 9,
   "id": "bf33fdc6",
   "metadata": {},
   "outputs": [],
   "source": [
    "#Obter o melhor modelo\n",
    "best_rf_clf = grid_search.best_estimator_\n",
    "#Realizar previsões no conjunto de teste com o melhor modelo\n",
    "y_pred = best_rf_clf.predict(X_test)"
   ]
  },
  {
   "cell_type": "code",
   "execution_count": 10,
   "id": "f0b05f7f",
   "metadata": {},
   "outputs": [
    {
     "name": "stdout",
     "output_type": "stream",
     "text": [
      "Acurácia do modelo: 99.38885%\n"
     ]
    }
   ],
   "source": [
    "#acurácia do modelo\n",
    "accuracy = accuracy_score(y_test, y_pred)\n",
    "print(f'Acurácia do modelo: {accuracy * 100:.5f}%')"
   ]
  },
  {
   "cell_type": "code",
   "execution_count": 11,
   "id": "6cc9ab1a",
   "metadata": {},
   "outputs": [
    {
     "name": "stdout",
     "output_type": "stream",
     "text": [
      "Matriz de Confusão:\n",
      "[[19446   119     0]\n",
      " [  180 19205    43]\n",
      " [    0    15 19406]]\n"
     ]
    },
    {
     "data": {
      "image/png": "[encoded data removed]",
      "text/plain": [
       "<Figure size 640x480 with 2 Axes>"
      ]
     },
     "metadata": {},
     "output_type": "display_data"
    }
   ],
   "source": [
    "#Matriz de confusão\n",
    "cm = confusion_matrix(y_test, y_pred)\n",
    "print(\"Matriz de Confusão:\")\n",
    "print(cm)\n",
    "\n",
    "from sklearn.metrics import ConfusionMatrixDisplay\n",
    " \n",
    "import matplotlib.pyplot as plt\n",
    "class_labels = ['-1', '0', '1']\n",
    "\n",
    "disp = ConfusionMatrixDisplay(confusion_matrix=cm, display_labels=class_labels)\n",
    "disp.plot(cmap=plt.cm.Blues)\n",
    "plt.show()"
   ]
  },
  {
   "cell_type": "code",
   "execution_count": 12,
   "id": "21d238c6",
   "metadata": {},
   "outputs": [
    {
     "name": "stdout",
     "output_type": "stream",
     "text": [
      "Precisão: 0.9938885316\n",
      "Recall: 0.9938884514\n",
      "F1-score: 0.9938857772\n"
     ]
    }
   ],
   "source": [
    "from sklearn.metrics import precision_score, recall_score, f1_score\n",
    "\n",
    "#Precisão, Recall e F1-Score\n",
    "\n",
    "precision = precision_score(y_test, y_pred, average='weighted')\n",
    "recall = recall_score(y_test, y_pred, average='weighted')\n",
    "f1 = f1_score(y_test, y_pred, average='weighted')\n",
    "\n",
    "print(f'Precisão: {precision:.10f}')\n",
    "print(f'Recall: {recall:.10f}')\n",
    "print(f'F1-score: {f1:.10f}')"
   ]
  },
  {
   "cell_type": "code",
   "execution_count": 13,
   "id": "f54b9477",
   "metadata": {},
   "outputs": [
    {
     "name": "stdout",
     "output_type": "stream",
     "text": [
      "Média das pontuações: 0.9094385868\n",
      "Desvio padrão das pontuações: 0.0657718740\n",
      "Pontuações da validação cruzada: [0.80119698 0.94688394 0.95499862 0.97736107 0.86675232]\n"
     ]
    }
   ],
   "source": [
    "from sklearn.model_selection import cross_val_score\n",
    "\n",
    "\n",
    "#validação cruzada (k-fold com k=5)\n",
    "scores = cross_val_score(best_rf_clf, X_resampled, y_resampled, cv=5)\n",
    "#média e o desvio padrão das pontuações da validação cruzada\n",
    "\n",
    "print(f'Média das pontuações: {scores.mean():.10f}')\n",
    "print(f'Desvio padrão das pontuações: {scores.std():.10f}')\n",
    "print(\"Pontuações da validação cruzada:\", scores)"
   ]
  },
  {
   "cell_type": "code",
   "execution_count": 14,
   "id": "3e6a836e",
   "metadata": {},
   "outputs": [],
   "source": [
    "#Previsões com base nos valores de entrada\n",
    "def predict_ac_status():\n",
    "    outside_temp = float(entry_outside_temp.get())\n",
    "    temp_103 = float(entry_temp_103.get())\n",
    "    humidity_103 = float(entry_humidity_103.get())\n",
    "    heat_index_103 = float(entry_heat_index_103.get())\n",
    "    occupation = float(entry_occupation.get())\n",
    "\n",
    "    #Previsão com base nos valores inseridos\n",
    "    prediction = best_rf_clf.predict([[outside_temp, temp_103, humidity_103, heat_index_103, occupation]])\n",
    "\n",
    "    #Controlar o resultado para \"Ligar AC em quente\", \"Ligar AC em frio\" ou \"desligar o AC\"\n",
    "    if prediction[0] == -1:\n",
    "        result_label.config(text=\"Ligar AC em quente\")\n",
    "    elif prediction[0] == 1:\n",
    "        result_label.config(text=\"Ligar AC em frio\")\n",
    "    else:\n",
    "        result_label.config(text=\"Desligar o AC\")"
   ]
  },
  {
   "cell_type": "code",
   "execution_count": 15,
   "id": "c748681a",
   "metadata": {},
   "outputs": [],
   "source": [
    "#Interface\n",
    "root = tk.Tk()\n",
    "root.title(\"Sistema de Controlo do AC\")\n",
    "\n",
    "frame = tk.Frame(root)\n",
    "frame.pack(padx=20, pady=20)\n",
    "\n",
    "#Entrada dados\n",
    "entry_outside_temp = tk.Entry(frame, width=10, justify='center')\n",
    "entry_temp_103 = tk.Entry(frame, width=10, justify='center')\n",
    "entry_humidity_103 = tk.Entry(frame, width=10, justify='center')\n",
    "entry_heat_index_103 = tk.Entry(frame, width=10, justify='center')\n",
    "entry_occupation = tk.Entry(frame, width=10, justify='center')\n",
    "\n",
    "entry_outside_temp.grid(row=0, column=1)\n",
    "entry_temp_103.grid(row=1, column=1)\n",
    "entry_humidity_103.grid(row=2, column=1)\n",
    "entry_heat_index_103.grid(row=3, column=1)\n",
    "entry_occupation.grid(row=4, column=1)\n",
    "\n",
    "#Título das variáveis\n",
    "tk.Label(frame, text=\"Outside Temperature (x10)(ºC)\").grid(row=0, column=0)\n",
    "tk.Label(frame, text=\"Temperature 103 (x10)(ºC)\").grid(row=1, column=0)\n",
    "tk.Label(frame, text=\"Humidity (x10)(%)\").grid(row=2, column=0)\n",
    "tk.Label(frame, text=\"Heat Index 103 (x10)(ºC)\").grid(row=3, column=0)\n",
    "tk.Label(frame, text=\"Occupation\").grid(row=4, column=0)\n",
    "\n",
    "#'Prever'\n",
    "predict_button = tk.Button(frame, text=\"Prever\", command=predict_ac_status)\n",
    "predict_button.grid(row=5, columnspan=2)\n",
    "\n",
    "#Resultado\n",
    "result_label = tk.Label(frame, text=\"\")\n",
    "result_label.grid(row=6, columnspan=2)\n",
    "\n",
    "root.mainloop()\n"
   ]
  },
  {
   "cell_type": "code",
   "execution_count": null,
   "id": "8b934181",
   "metadata": {},
   "outputs": [],
   "source": []
  }
 ],
 "metadata": {
  "kernelspec": {
   "display_name": "Python 3 (ipykernel)",
   "language": "python",
   "name": "python3"
  },
  "language_info": {
   "codemirror_mode": {
    "name": "ipython",
    "version": 3
   },
   "file_extension": ".py",
   "mimetype": "text/x-python",
   "name": "python",
   "nbconvert_exporter": "python",
   "pygments_lexer": "ipython3",
   "version": "3.11.4"
  }
 },
 "nbformat": 4,
 "nbformat_minor": 5
}
