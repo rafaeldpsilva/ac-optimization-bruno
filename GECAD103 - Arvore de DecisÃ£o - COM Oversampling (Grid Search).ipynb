{
 "cells": [
  {
   "cell_type": "code",
   "execution_count": 1,
   "id": "3bc48507",
   "metadata": {},
   "outputs": [],
   "source": [
    "import pandas as pd\n",
    "from sklearn.model_selection import train_test_split, GridSearchCV\n",
    "from sklearn.tree import DecisionTreeClassifier\n",
    "from sklearn.metrics import accuracy_score\n",
    "from sklearn.metrics import confusion_matrix, precision_score, recall_score, f1_score\n",
    "from sklearn.model_selection import cross_val_score\n",
    "import matplotlib.pyplot as plt\n",
    "from imblearn.over_sampling import SMOTE\n",
    "import tkinter as tk\n",
    "\n"
   ]
  },
  {
   "cell_type": "code",
   "execution_count": 2,
   "id": "28fdb287",
   "metadata": {},
   "outputs": [
    {
     "data": {
      "text/html": [
       "<div>\n",
       "<style scoped>\n",
       "    .dataframe tbody tr th:only-of-type {\n",
       "        vertical-align: middle;\n",
       "    }\n",
       "\n",
       "    .dataframe tbody tr th {\n",
       "        vertical-align: top;\n",
       "    }\n",
       "\n",
       "    .dataframe thead th {\n",
       "        text-align: right;\n",
       "    }\n",
       "</style>\n",
       "<table border=\"1\" class=\"dataframe\">\n",
       "  <thead>\n",
       "    <tr style=\"text-align: right;\">\n",
       "      <th></th>\n",
       "      <th>iots</th>\n",
       "      <th>datetime</th>\n",
       "    </tr>\n",
       "  </thead>\n",
       "  <tbody>\n",
       "    <tr>\n",
       "      <th>0</th>\n",
       "      <td>[{'name': 'Air Conditioner 101', 'type': 'hvac...</td>\n",
       "      <td>2024-04-22 15:20:29.174</td>\n",
       "    </tr>\n",
       "    <tr>\n",
       "      <th>1</th>\n",
       "      <td>[{'name': 'Air Conditioner 101', 'type': 'hvac...</td>\n",
       "      <td>2024-04-22 15:20:24.356</td>\n",
       "    </tr>\n",
       "    <tr>\n",
       "      <th>2</th>\n",
       "      <td>[{'name': 'Air Conditioner 101', 'type': 'hvac...</td>\n",
       "      <td>2024-04-22 15:20:19.409</td>\n",
       "    </tr>\n",
       "    <tr>\n",
       "      <th>3</th>\n",
       "      <td>[{'name': 'Air Conditioner 101', 'type': 'hvac...</td>\n",
       "      <td>2024-04-22 15:20:14.247</td>\n",
       "    </tr>\n",
       "    <tr>\n",
       "      <th>4</th>\n",
       "      <td>[{'name': 'Air Conditioner 101', 'type': 'hvac...</td>\n",
       "      <td>2024-04-22 15:20:09.303</td>\n",
       "    </tr>\n",
       "    <tr>\n",
       "      <th>...</th>\n",
       "      <td>...</td>\n",
       "      <td>...</td>\n",
       "    </tr>\n",
       "    <tr>\n",
       "      <th>17259</th>\n",
       "      <td>[{'name': 'Air Conditioner 101', 'type': 'hvac...</td>\n",
       "      <td>2024-04-21 15:21:02.227</td>\n",
       "    </tr>\n",
       "    <tr>\n",
       "      <th>17260</th>\n",
       "      <td>[{'name': 'Air Conditioner 101', 'type': 'hvac...</td>\n",
       "      <td>2024-04-21 15:20:57.378</td>\n",
       "    </tr>\n",
       "    <tr>\n",
       "      <th>17261</th>\n",
       "      <td>[{'name': 'Air Conditioner 101', 'type': 'hvac...</td>\n",
       "      <td>2024-04-21 15:20:52.045</td>\n",
       "    </tr>\n",
       "    <tr>\n",
       "      <th>17262</th>\n",
       "      <td>[{'name': 'Air Conditioner 101', 'type': 'hvac...</td>\n",
       "      <td>2024-04-21 15:20:47.379</td>\n",
       "    </tr>\n",
       "    <tr>\n",
       "      <th>17263</th>\n",
       "      <td>[{'name': 'Air Conditioner 101', 'type': 'hvac...</td>\n",
       "      <td>2024-04-21 15:20:42.233</td>\n",
       "    </tr>\n",
       "  </tbody>\n",
       "</table>\n",
       "<p>17264 rows × 2 columns</p>\n",
       "</div>"
      ],
      "text/plain": [
       "                                                    iots  \\\n",
       "0      [{'name': 'Air Conditioner 101', 'type': 'hvac...   \n",
       "1      [{'name': 'Air Conditioner 101', 'type': 'hvac...   \n",
       "2      [{'name': 'Air Conditioner 101', 'type': 'hvac...   \n",
       "3      [{'name': 'Air Conditioner 101', 'type': 'hvac...   \n",
       "4      [{'name': 'Air Conditioner 101', 'type': 'hvac...   \n",
       "...                                                  ...   \n",
       "17259  [{'name': 'Air Conditioner 101', 'type': 'hvac...   \n",
       "17260  [{'name': 'Air Conditioner 101', 'type': 'hvac...   \n",
       "17261  [{'name': 'Air Conditioner 101', 'type': 'hvac...   \n",
       "17262  [{'name': 'Air Conditioner 101', 'type': 'hvac...   \n",
       "17263  [{'name': 'Air Conditioner 101', 'type': 'hvac...   \n",
       "\n",
       "                     datetime  \n",
       "0     2024-04-22 15:20:29.174  \n",
       "1     2024-04-22 15:20:24.356  \n",
       "2     2024-04-22 15:20:19.409  \n",
       "3     2024-04-22 15:20:14.247  \n",
       "4     2024-04-22 15:20:09.303  \n",
       "...                       ...  \n",
       "17259 2024-04-21 15:21:02.227  \n",
       "17260 2024-04-21 15:20:57.378  \n",
       "17261 2024-04-21 15:20:52.045  \n",
       "17262 2024-04-21 15:20:47.379  \n",
       "17263 2024-04-21 15:20:42.233  \n",
       "\n",
       "[17264 rows x 2 columns]"
      ]
     },
     "execution_count": 2,
     "metadata": {},
     "output_type": "execute_result"
    }
   ],
   "source": [
    "from database.BuildingRepository import BuildingRepository\n",
    "from modules import ACStatusAdapter\n",
    "from datetime import datetime, timedelta\n",
    "def get_iot_readings():\n",
    "    building_repo = BuildingRepository()\n",
    "    iots = building_repo.get_historic_iots(datetime.now() - timedelta(days=1))\n",
    "    iot_readings_historic = pd.DataFrame(iots)\n",
    "    iot_readings_historic = iot_readings_historic.drop(\"_id\", axis=1)\n",
    "    return iot_readings_historic\n",
    "iot_readings_historic = get_iot_readings()\n",
    "iot_readings_historic"
   ]
  },
  {
   "cell_type": "code",
   "execution_count": null,
   "id": "a87a7134",
   "metadata": {},
   "outputs": [],
   "source": [
    "del iot_readings_historic"
   ]
  },
  {
   "cell_type": "code",
   "execution_count": 3,
   "id": "78ead848",
   "metadata": {},
   "outputs": [
    {
     "data": {
      "text/html": [
       "<div>\n",
       "<style scoped>\n",
       "    .dataframe tbody tr th:only-of-type {\n",
       "        vertical-align: middle;\n",
       "    }\n",
       "\n",
       "    .dataframe tbody tr th {\n",
       "        vertical-align: top;\n",
       "    }\n",
       "\n",
       "    .dataframe thead th {\n",
       "        text-align: right;\n",
       "    }\n",
       "</style>\n",
       "<table border=\"1\" class=\"dataframe\">\n",
       "  <thead>\n",
       "    <tr style=\"text-align: right;\">\n",
       "      <th></th>\n",
       "      <th>Air Conditioner_power</th>\n",
       "      <th>Air Conditioner_voltage</th>\n",
       "      <th>Air Conditioner_current</th>\n",
       "      <th>Lamp 1</th>\n",
       "      <th>Temperature (Cº)</th>\n",
       "      <th>Humidity (%)</th>\n",
       "      <th>Light (%)</th>\n",
       "      <th>Outside temperature (ºC)</th>\n",
       "    </tr>\n",
       "  </thead>\n",
       "  <tbody>\n",
       "    <tr>\n",
       "      <th>0</th>\n",
       "      <td>20.0</td>\n",
       "      <td>228.0</td>\n",
       "      <td>3.0</td>\n",
       "      <td>0.0</td>\n",
       "      <td>261.0</td>\n",
       "      <td>404.0</td>\n",
       "      <td>676.0</td>\n",
       "      <td>22.8</td>\n",
       "    </tr>\n",
       "    <tr>\n",
       "      <th>1</th>\n",
       "      <td>20.0</td>\n",
       "      <td>228.0</td>\n",
       "      <td>3.0</td>\n",
       "      <td>0.0</td>\n",
       "      <td>261.0</td>\n",
       "      <td>404.0</td>\n",
       "      <td>676.0</td>\n",
       "      <td>22.8</td>\n",
       "    </tr>\n",
       "    <tr>\n",
       "      <th>2</th>\n",
       "      <td>20.0</td>\n",
       "      <td>228.0</td>\n",
       "      <td>3.0</td>\n",
       "      <td>0.0</td>\n",
       "      <td>261.0</td>\n",
       "      <td>404.0</td>\n",
       "      <td>676.0</td>\n",
       "      <td>22.8</td>\n",
       "    </tr>\n",
       "    <tr>\n",
       "      <th>3</th>\n",
       "      <td>20.0</td>\n",
       "      <td>228.0</td>\n",
       "      <td>3.0</td>\n",
       "      <td>0.0</td>\n",
       "      <td>261.0</td>\n",
       "      <td>404.0</td>\n",
       "      <td>676.0</td>\n",
       "      <td>22.8</td>\n",
       "    </tr>\n",
       "    <tr>\n",
       "      <th>4</th>\n",
       "      <td>20.0</td>\n",
       "      <td>230.0</td>\n",
       "      <td>3.0</td>\n",
       "      <td>0.0</td>\n",
       "      <td>261.0</td>\n",
       "      <td>404.0</td>\n",
       "      <td>676.0</td>\n",
       "      <td>22.8</td>\n",
       "    </tr>\n",
       "    <tr>\n",
       "      <th>...</th>\n",
       "      <td>...</td>\n",
       "      <td>...</td>\n",
       "      <td>...</td>\n",
       "      <td>...</td>\n",
       "      <td>...</td>\n",
       "      <td>...</td>\n",
       "      <td>...</td>\n",
       "      <td>...</td>\n",
       "    </tr>\n",
       "    <tr>\n",
       "      <th>17259</th>\n",
       "      <td>0.0</td>\n",
       "      <td>236.0</td>\n",
       "      <td>2.0</td>\n",
       "      <td>0.0</td>\n",
       "      <td>203.0</td>\n",
       "      <td>436.0</td>\n",
       "      <td>104.0</td>\n",
       "      <td>25.6</td>\n",
       "    </tr>\n",
       "    <tr>\n",
       "      <th>17260</th>\n",
       "      <td>0.0</td>\n",
       "      <td>237.0</td>\n",
       "      <td>2.0</td>\n",
       "      <td>0.0</td>\n",
       "      <td>203.0</td>\n",
       "      <td>435.0</td>\n",
       "      <td>104.0</td>\n",
       "      <td>25.6</td>\n",
       "    </tr>\n",
       "    <tr>\n",
       "      <th>17261</th>\n",
       "      <td>0.0</td>\n",
       "      <td>239.0</td>\n",
       "      <td>2.0</td>\n",
       "      <td>0.0</td>\n",
       "      <td>203.0</td>\n",
       "      <td>435.0</td>\n",
       "      <td>104.0</td>\n",
       "      <td>25.6</td>\n",
       "    </tr>\n",
       "    <tr>\n",
       "      <th>17262</th>\n",
       "      <td>0.0</td>\n",
       "      <td>238.0</td>\n",
       "      <td>2.0</td>\n",
       "      <td>0.0</td>\n",
       "      <td>203.0</td>\n",
       "      <td>435.0</td>\n",
       "      <td>104.0</td>\n",
       "      <td>25.6</td>\n",
       "    </tr>\n",
       "    <tr>\n",
       "      <th>17263</th>\n",
       "      <td>0.0</td>\n",
       "      <td>238.0</td>\n",
       "      <td>2.0</td>\n",
       "      <td>0.0</td>\n",
       "      <td>203.0</td>\n",
       "      <td>435.0</td>\n",
       "      <td>104.0</td>\n",
       "      <td>25.6</td>\n",
       "    </tr>\n",
       "  </tbody>\n",
       "</table>\n",
       "<p>17264 rows × 8 columns</p>\n",
       "</div>"
      ],
      "text/plain": [
       "       Air Conditioner_power  Air Conditioner_voltage  \\\n",
       "0                       20.0                    228.0   \n",
       "1                       20.0                    228.0   \n",
       "2                       20.0                    228.0   \n",
       "3                       20.0                    228.0   \n",
       "4                       20.0                    230.0   \n",
       "...                      ...                      ...   \n",
       "17259                    0.0                    236.0   \n",
       "17260                    0.0                    237.0   \n",
       "17261                    0.0                    239.0   \n",
       "17262                    0.0                    238.0   \n",
       "17263                    0.0                    238.0   \n",
       "\n",
       "       Air Conditioner_current  Lamp 1  Temperature (Cº)  Humidity (%)  \\\n",
       "0                          3.0     0.0             261.0         404.0   \n",
       "1                          3.0     0.0             261.0         404.0   \n",
       "2                          3.0     0.0             261.0         404.0   \n",
       "3                          3.0     0.0             261.0         404.0   \n",
       "4                          3.0     0.0             261.0         404.0   \n",
       "...                        ...     ...               ...           ...   \n",
       "17259                      2.0     0.0             203.0         436.0   \n",
       "17260                      2.0     0.0             203.0         435.0   \n",
       "17261                      2.0     0.0             203.0         435.0   \n",
       "17262                      2.0     0.0             203.0         435.0   \n",
       "17263                      2.0     0.0             203.0         435.0   \n",
       "\n",
       "       Light (%)  Outside temperature (ºC)  \n",
       "0          676.0                      22.8  \n",
       "1          676.0                      22.8  \n",
       "2          676.0                      22.8  \n",
       "3          676.0                      22.8  \n",
       "4          676.0                      22.8  \n",
       "...          ...                       ...  \n",
       "17259      104.0                      25.6  \n",
       "17260      104.0                      25.6  \n",
       "17261      104.0                      25.6  \n",
       "17262      104.0                      25.6  \n",
       "17263      104.0                      25.6  \n",
       "\n",
       "[17264 rows x 8 columns]"
      ]
     },
     "execution_count": 3,
     "metadata": {},
     "output_type": "execute_result"
    }
   ],
   "source": [
    "considered_iots = [\"Lamp 1_103\",\"Weather\",\"Temperature Sensor 103\",\"Humidity Sensor 103\",\"Light Sensor 103\",\"Air Conditioner 103\"]\n",
    "aux = pd.DataFrame()\n",
    "for i, row in iot_readings_historic.iterrows():\n",
    "    new = pd.DataFrame()\n",
    "    for iot in row['iots']:\n",
    "        if iot['name'] in considered_iots:\n",
    "            for value in iot['values']:\n",
    "                val = value['values']\n",
    "                new[iot['name'] + '_' + value['type']] = [val]\n",
    "\n",
    "    aux = pd.concat([aux, new])\n",
    "\n",
    "aux.rename(\n",
    "    columns={\"Weather\" + \"_temperature\": 'Outside temperature (ºC)',\n",
    "               \"Temperature Sensor 103\" + \"_temperature\": 'Temperature (Cº)',\n",
    "                \"Humidity Sensor 103\" + \"_humidity\": 'Humidity (%)',\n",
    "                \"Light Sensor 103\" + \"_light\": 'Light (%)',\n",
    "                \"Lamp 1_103_power\": 'Lamp 1'},\n",
    "    inplace=True)\n",
    "val = aux.values.tolist()\n",
    "aux = pd.DataFrame(val,columns=['Air Conditioner_power','Air Conditioner_voltage','Air Conditioner_current','Lamp 1','Temperature (Cº)','Humidity (%)','Light (%)','Outside temperature (ºC)'])\n",
    "aux"
   ]
  },
  {
   "cell_type": "code",
   "execution_count": 5,
   "id": "2bfb7f49",
   "metadata": {},
   "outputs": [
    {
     "data": {
      "text/html": [
       "<div>\n",
       "<style scoped>\n",
       "    .dataframe tbody tr th:only-of-type {\n",
       "        vertical-align: middle;\n",
       "    }\n",
       "\n",
       "    .dataframe tbody tr th {\n",
       "        vertical-align: top;\n",
       "    }\n",
       "\n",
       "    .dataframe thead th {\n",
       "        text-align: right;\n",
       "    }\n",
       "</style>\n",
       "<table border=\"1\" class=\"dataframe\">\n",
       "  <thead>\n",
       "    <tr style=\"text-align: right;\">\n",
       "      <th></th>\n",
       "      <th>Temperature (Cº)</th>\n",
       "      <th>Humidity (%)</th>\n",
       "      <th>Light (%)</th>\n",
       "      <th>Outside temperature (ºC)</th>\n",
       "      <th>AC status</th>\n",
       "      <th>Occupation</th>\n",
       "      <th>Heat Index (ºC)</th>\n",
       "    </tr>\n",
       "  </thead>\n",
       "  <tbody>\n",
       "    <tr>\n",
       "      <th>0</th>\n",
       "      <td>261.0</td>\n",
       "      <td>404.0</td>\n",
       "      <td>676.0</td>\n",
       "      <td>2280.0</td>\n",
       "      <td>1</td>\n",
       "      <td>1</td>\n",
       "      <td>114051.526287</td>\n",
       "    </tr>\n",
       "    <tr>\n",
       "      <th>1</th>\n",
       "      <td>261.0</td>\n",
       "      <td>404.0</td>\n",
       "      <td>676.0</td>\n",
       "      <td>2280.0</td>\n",
       "      <td>1</td>\n",
       "      <td>1</td>\n",
       "      <td>114051.526287</td>\n",
       "    </tr>\n",
       "    <tr>\n",
       "      <th>2</th>\n",
       "      <td>261.0</td>\n",
       "      <td>404.0</td>\n",
       "      <td>676.0</td>\n",
       "      <td>2280.0</td>\n",
       "      <td>1</td>\n",
       "      <td>1</td>\n",
       "      <td>114051.526287</td>\n",
       "    </tr>\n",
       "    <tr>\n",
       "      <th>3</th>\n",
       "      <td>261.0</td>\n",
       "      <td>404.0</td>\n",
       "      <td>676.0</td>\n",
       "      <td>2280.0</td>\n",
       "      <td>1</td>\n",
       "      <td>1</td>\n",
       "      <td>114051.526287</td>\n",
       "    </tr>\n",
       "    <tr>\n",
       "      <th>4</th>\n",
       "      <td>261.0</td>\n",
       "      <td>404.0</td>\n",
       "      <td>676.0</td>\n",
       "      <td>2280.0</td>\n",
       "      <td>1</td>\n",
       "      <td>1</td>\n",
       "      <td>114051.526287</td>\n",
       "    </tr>\n",
       "    <tr>\n",
       "      <th>...</th>\n",
       "      <td>...</td>\n",
       "      <td>...</td>\n",
       "      <td>...</td>\n",
       "      <td>...</td>\n",
       "      <td>...</td>\n",
       "      <td>...</td>\n",
       "      <td>...</td>\n",
       "    </tr>\n",
       "    <tr>\n",
       "      <th>17259</th>\n",
       "      <td>203.0</td>\n",
       "      <td>436.0</td>\n",
       "      <td>104.0</td>\n",
       "      <td>2560.0</td>\n",
       "      <td>0</td>\n",
       "      <td>0</td>\n",
       "      <td>80587.368563</td>\n",
       "    </tr>\n",
       "    <tr>\n",
       "      <th>17260</th>\n",
       "      <td>203.0</td>\n",
       "      <td>435.0</td>\n",
       "      <td>104.0</td>\n",
       "      <td>2560.0</td>\n",
       "      <td>0</td>\n",
       "      <td>0</td>\n",
       "      <td>80280.968378</td>\n",
       "    </tr>\n",
       "    <tr>\n",
       "      <th>17261</th>\n",
       "      <td>203.0</td>\n",
       "      <td>435.0</td>\n",
       "      <td>104.0</td>\n",
       "      <td>2560.0</td>\n",
       "      <td>0</td>\n",
       "      <td>0</td>\n",
       "      <td>80280.968378</td>\n",
       "    </tr>\n",
       "    <tr>\n",
       "      <th>17262</th>\n",
       "      <td>203.0</td>\n",
       "      <td>435.0</td>\n",
       "      <td>104.0</td>\n",
       "      <td>2560.0</td>\n",
       "      <td>0</td>\n",
       "      <td>0</td>\n",
       "      <td>80280.968378</td>\n",
       "    </tr>\n",
       "    <tr>\n",
       "      <th>17263</th>\n",
       "      <td>203.0</td>\n",
       "      <td>435.0</td>\n",
       "      <td>104.0</td>\n",
       "      <td>2560.0</td>\n",
       "      <td>0</td>\n",
       "      <td>0</td>\n",
       "      <td>80280.968378</td>\n",
       "    </tr>\n",
       "  </tbody>\n",
       "</table>\n",
       "<p>17264 rows × 7 columns</p>\n",
       "</div>"
      ],
      "text/plain": [
       "       Temperature (Cº)  Humidity (%)  Light (%)  Outside temperature (ºC)  \\\n",
       "0                 261.0         404.0      676.0                    2280.0   \n",
       "1                 261.0         404.0      676.0                    2280.0   \n",
       "2                 261.0         404.0      676.0                    2280.0   \n",
       "3                 261.0         404.0      676.0                    2280.0   \n",
       "4                 261.0         404.0      676.0                    2280.0   \n",
       "...                 ...           ...        ...                       ...   \n",
       "17259             203.0         436.0      104.0                    2560.0   \n",
       "17260             203.0         435.0      104.0                    2560.0   \n",
       "17261             203.0         435.0      104.0                    2560.0   \n",
       "17262             203.0         435.0      104.0                    2560.0   \n",
       "17263             203.0         435.0      104.0                    2560.0   \n",
       "\n",
       "       AC status  Occupation  Heat Index (ºC)  \n",
       "0              1           1    114051.526287  \n",
       "1              1           1    114051.526287  \n",
       "2              1           1    114051.526287  \n",
       "3              1           1    114051.526287  \n",
       "4              1           1    114051.526287  \n",
       "...          ...         ...              ...  \n",
       "17259          0           0     80587.368563  \n",
       "17260          0           0     80280.968378  \n",
       "17261          0           0     80280.968378  \n",
       "17262          0           0     80280.968378  \n",
       "17263          0           0     80280.968378  \n",
       "\n",
       "[17264 rows x 7 columns]"
      ]
     },
     "execution_count": 5,
     "metadata": {},
     "output_type": "execute_result"
    }
   ],
   "source": [
    "df = aux\n",
    "df['AC status'] = df.apply(lambda x: 0 if x['Air Conditioner_power'] == 0 else 1, axis=1)\n",
    "df['Outside temperature (ºC)'] = df.apply(lambda x: x['Outside temperature (ºC)']*10, axis=1)\n",
    "df['Occupation'] = df.apply(lambda x: 0 if x['Light (%)'] < 500 else 1, axis=1)\n",
    "df = df.drop([\"Air Conditioner_power\",\"Air Conditioner_voltage\",\"Air Conditioner_current\",\"Lamp 1\"], axis=1)\n",
    "df['Heat Index (ºC)'] = ACStatusAdapter.calculate_heat_index_custom_celsius(df['Temperature (Cº)'], df['Humidity (%)'])\n",
    "df"
   ]
  },
  {
   "cell_type": "code",
   "execution_count": null,
   "id": "e335ddff",
   "metadata": {},
   "outputs": [
    {
     "name": "stdout",
     "output_type": "stream",
     "text": [
      "Tamanho base de dados após oversampling: 29738\n",
      "Melhores hiperparâmetros: {'criterion': 'gini', 'max_depth': 10, 'min_samples_leaf': 4, 'min_samples_split': 2}\n",
      "Melhor pontuação de validação cruzada: 0.8709025160493573\n"
     ]
    }
   ],
   "source": [
    "#Oversampling \n",
    "X = df[['Outside temperature (ºC)', 'Temperature (Cº)', 'Humidity (%)', 'Heat Index (ºC)', 'Occupation']]\n",
    "y = df['AC status']\n",
    "smote = SMOTE(random_state=42)\n",
    "X_resampled, y_resampled = smote.fit_resample(X, y)\n",
    "print(\"Tamanho base de dados após oversampling:\", len(X_resampled))\n",
    "X_train, X_test, y_train, y_test = train_test_split(X_resampled, y_resampled, test_size=0.19, random_state=42)\n",
    "#Grid Search\n",
    "param_grid = {\n",
    "    'max_depth': [None, 10, 20, 30],\n",
    "    'criterion': ['gini', 'entropy'],\n",
    "    'min_samples_split': [2, 5, 10],\n",
    "    'min_samples_leaf': [1, 2, 4]\n",
    "}\n",
    "\n",
    "grid_search = GridSearchCV(estimator=DecisionTreeClassifier(random_state=42),\n",
    "                           param_grid=param_grid,\n",
    "                           cv=5,\n",
    "                           scoring='accuracy',\n",
    "                           n_jobs=-1)\n",
    "\n",
    "grid_search.fit(X_resampled, y_resampled)\n",
    "\n",
    "print(\"Melhores hiperparâmetros:\", grid_search.best_params_)\n",
    "print(\"Melhor pontuação de validação cruzada:\", grid_search.best_score_)"
   ]
  },
  {
   "cell_type": "code",
   "execution_count": null,
   "id": "887f536a",
   "metadata": {},
   "outputs": [
    {
     "name": "stdout",
     "output_type": "stream",
     "text": [
      "Acurácia do modelo: 99.59299%\n"
     ]
    }
   ],
   "source": [
    "best_clf = grid_search.best_estimator_\n",
    "\n",
    "#Treinar o modelo\n",
    "best_clf.fit(X_resampled, y_resampled)\n",
    "\n",
    "#Avaliação do modelo\n",
    "y_pred = best_clf.predict(X_test)\n",
    "accuracy = accuracy_score(y_test, y_pred)\n",
    "print(f'Acurácia do modelo: {accuracy * 100:.5f}%')"
   ]
  },
  {
   "cell_type": "code",
   "execution_count": null,
   "id": "35a5d4f3",
   "metadata": {},
   "outputs": [
    {
     "data": {
      "text/plain": [
       "array([0, 1, 0, ..., 0, 1, 0])"
      ]
     },
     "execution_count": 43,
     "metadata": {},
     "output_type": "execute_result"
    }
   ],
   "source": [
    "y_pred"
   ]
  },
  {
   "cell_type": "code",
   "execution_count": null,
   "id": "8294f3b1",
   "metadata": {},
   "outputs": [],
   "source": [
    "import pickle\n",
    "\n",
    "# Save the model to a file\n",
    "model_filename = './modules/ACStatus/grid_search.pkl'\n",
    "with open(model_filename, 'wb') as model_file:\n",
    "    pickle.dump(best_clf, model_file)"
   ]
  },
  {
   "cell_type": "code",
   "execution_count": 24,
   "id": "4a42a616",
   "metadata": {},
   "outputs": [
    {
     "data": {
      "text/plain": [
       "Temperature (Cº)            225.00000\n",
       "Humidity (%)                  0.00000\n",
       "Light (%)                   100.00000\n",
       "Outside temperature (ºC)    179.00000\n",
       "AC status                     0.00000\n",
       "Occupation                    1.00000\n",
       "Heat Index (ºC)            -269.50375\n",
       "Name: 0, dtype: float64"
      ]
     },
     "execution_count": 24,
     "metadata": {},
     "output_type": "execute_result"
    }
   ],
   "source": [
    "df.iloc[0]"
   ]
  },
  {
   "cell_type": "code",
   "execution_count": 50,
   "id": "9f88c101",
   "metadata": {},
   "outputs": [
    {
     "name": "stderr",
     "output_type": "stream",
     "text": [
      "/home/pardalito/miniconda3/envs/ngs/lib/python3.12/site-packages/sklearn/base.py:493: UserWarning: X does not have valid feature names, but DecisionTreeClassifier was fitted with feature names\n",
      "  warnings.warn(\n"
     ]
    },
    {
     "data": {
      "text/plain": [
       "1"
      ]
     },
     "execution_count": 50,
     "metadata": {},
     "output_type": "execute_result"
    }
   ],
   "source": [
    "#Avaliação do modelo\n",
    "y_pred = best_clf.predict([[253, 293, df.iloc[0]['Humidity (%)'], -123, 1]])\n",
    "y_pred[0]"
   ]
  },
  {
   "cell_type": "code",
   "execution_count": 8,
   "id": "85d653a0",
   "metadata": {},
   "outputs": [
    {
     "data": {
      "text/html": [
       "<div>\n",
       "<style scoped>\n",
       "    .dataframe tbody tr th:only-of-type {\n",
       "        vertical-align: middle;\n",
       "    }\n",
       "\n",
       "    .dataframe tbody tr th {\n",
       "        vertical-align: top;\n",
       "    }\n",
       "\n",
       "    .dataframe thead th {\n",
       "        text-align: right;\n",
       "    }\n",
       "</style>\n",
       "<table border=\"1\" class=\"dataframe\">\n",
       "  <thead>\n",
       "    <tr style=\"text-align: right;\">\n",
       "      <th></th>\n",
       "      <th>Outside temperature (x10)(ºC)</th>\n",
       "      <th>Temperature 103 (x10)(ºC)</th>\n",
       "      <th>Humidity 103 (x10)(%)</th>\n",
       "      <th>Heat Index 103 (x10)(ºC)</th>\n",
       "      <th>Occupation</th>\n",
       "      <th>AC status 103 (bool)</th>\n",
       "    </tr>\n",
       "  </thead>\n",
       "  <tbody>\n",
       "    <tr>\n",
       "      <th>0</th>\n",
       "      <td>177</td>\n",
       "      <td>189</td>\n",
       "      <td>588</td>\n",
       "      <td>174.884999</td>\n",
       "      <td>0</td>\n",
       "      <td>0</td>\n",
       "    </tr>\n",
       "    <tr>\n",
       "      <th>1</th>\n",
       "      <td>177</td>\n",
       "      <td>189</td>\n",
       "      <td>587</td>\n",
       "      <td>174.881376</td>\n",
       "      <td>0</td>\n",
       "      <td>0</td>\n",
       "    </tr>\n",
       "    <tr>\n",
       "      <th>2</th>\n",
       "      <td>177</td>\n",
       "      <td>189</td>\n",
       "      <td>588</td>\n",
       "      <td>174.884999</td>\n",
       "      <td>0</td>\n",
       "      <td>0</td>\n",
       "    </tr>\n",
       "    <tr>\n",
       "      <th>3</th>\n",
       "      <td>177</td>\n",
       "      <td>189</td>\n",
       "      <td>587</td>\n",
       "      <td>174.881376</td>\n",
       "      <td>0</td>\n",
       "      <td>0</td>\n",
       "    </tr>\n",
       "    <tr>\n",
       "      <th>4</th>\n",
       "      <td>176</td>\n",
       "      <td>189</td>\n",
       "      <td>587</td>\n",
       "      <td>174.881376</td>\n",
       "      <td>0</td>\n",
       "      <td>0</td>\n",
       "    </tr>\n",
       "  </tbody>\n",
       "</table>\n",
       "</div>"
      ],
      "text/plain": [
       "   Outside temperature (x10)(ºC)  Temperature 103 (x10)(ºC)  \\\n",
       "0                            177                        189   \n",
       "1                            177                        189   \n",
       "2                            177                        189   \n",
       "3                            177                        189   \n",
       "4                            176                        189   \n",
       "\n",
       "   Humidity 103 (x10)(%)  Heat Index 103 (x10)(ºC)  Occupation   \\\n",
       "0                    588                174.884999            0   \n",
       "1                    587                174.881376            0   \n",
       "2                    588                174.884999            0   \n",
       "3                    587                174.881376            0   \n",
       "4                    587                174.881376            0   \n",
       "\n",
       "   AC status 103 (bool)  \n",
       "0                     0  \n",
       "1                     0  \n",
       "2                     0  \n",
       "3                     0  \n",
       "4                     0  "
      ]
     },
     "execution_count": 8,
     "metadata": {},
     "output_type": "execute_result"
    }
   ],
   "source": [
    "#Carregar dados\n",
    "data_set = pd.read_excel('Base_dados_103_clean.xlsx')\n",
    "data_set.head()"
   ]
  },
  {
   "cell_type": "code",
   "execution_count": 10,
   "id": "89366cf6",
   "metadata": {},
   "outputs": [
    {
     "name": "stdout",
     "output_type": "stream",
     "text": [
      "Tamanho base de dados original: 103949\n"
     ]
    }
   ],
   "source": [
    "print(\"Tamanho base de dados original:\", len(data_set))"
   ]
  },
  {
   "cell_type": "code",
   "execution_count": 11,
   "id": "4ee88adf",
   "metadata": {},
   "outputs": [],
   "source": [
    "#Oversampling \n",
    "X = data_set[['Outside temperature (x10)(ºC)', 'Temperature 103 (x10)(ºC)', 'Humidity 103 (x10)(%)', 'Heat Index 103 (x10)(ºC)', 'Occupation ']]\n",
    "y = data_set['AC status 103 (bool)']\n",
    "smote = SMOTE(random_state=42)\n",
    "X_resampled, y_resampled = smote.fit_resample(X, y)"
   ]
  },
  {
   "cell_type": "code",
   "execution_count": 12,
   "id": "7a2f6fc4",
   "metadata": {},
   "outputs": [
    {
     "name": "stdout",
     "output_type": "stream",
     "text": [
      "Tamanho base de dados após oversampling: 307437\n"
     ]
    }
   ],
   "source": [
    "#Tamanho base de dados após oversampling\n",
    "print(\"Tamanho base de dados após oversampling:\", len(X_resampled))"
   ]
  },
  {
   "cell_type": "code",
   "execution_count": 13,
   "id": "6beceef4",
   "metadata": {},
   "outputs": [],
   "source": [
    "#Divisão dados treino + teste\n",
    "X_train, X_test, y_train, y_test = train_test_split(X_resampled, y_resampled, test_size=0.19, random_state=42)"
   ]
  },
  {
   "cell_type": "code",
   "execution_count": 14,
   "id": "f82ecde9",
   "metadata": {},
   "outputs": [
    {
     "name": "stdout",
     "output_type": "stream",
     "text": [
      "Melhores hiperparâmetros: {'criterion': 'gini', 'max_depth': 30, 'min_samples_leaf': 1, 'min_samples_split': 2}\n",
      "Melhor pontuação de validação cruzada: 0.907356925249492\n"
     ]
    }
   ],
   "source": [
    "#Grid Search\n",
    "param_grid = {\n",
    "    'max_depth': [None, 10, 20, 30],\n",
    "    'criterion': ['gini', 'entropy'],\n",
    "    'min_samples_split': [2, 5, 10],\n",
    "    'min_samples_leaf': [1, 2, 4]\n",
    "}\n",
    "\n",
    "grid_search = GridSearchCV(estimator=DecisionTreeClassifier(random_state=42),\n",
    "                           param_grid=param_grid,\n",
    "                           cv=5,\n",
    "                           scoring='accuracy',\n",
    "                           n_jobs=-1)\n",
    "\n",
    "grid_search.fit(X_resampled, y_resampled)\n",
    "\n",
    "print(\"Melhores hiperparâmetros:\", grid_search.best_params_)\n",
    "print(\"Melhor pontuação de validação cruzada:\", grid_search.best_score_)"
   ]
  },
  {
   "cell_type": "code",
   "execution_count": 15,
   "id": "eee45bfe",
   "metadata": {},
   "outputs": [],
   "source": [
    "#Treinar modelo \n",
    "\n",
    "#Treinar o modelo com os hiperparâmetros encontrados pelo Grid Search\n",
    "best_clf = grid_search.best_estimator_\n",
    "\n",
    "#Treinar o modelo\n",
    "best_clf.fit(X_resampled, y_resampled)\n",
    "\n",
    "#Avaliação do modelo\n",
    "y_pred = best_clf.predict(X_test)\n"
   ]
  },
  {
   "cell_type": "code",
   "execution_count": 16,
   "id": "1b792dc6",
   "metadata": {},
   "outputs": [
    {
     "name": "stdout",
     "output_type": "stream",
     "text": [
      "Acurácia do modelo: 99.94864%\n"
     ]
    }
   ],
   "source": [
    "#acurácia do modelo\n",
    "accuracy = accuracy_score(y_test, y_pred)\n",
    "print(f'Acurácia do modelo: {accuracy * 100:.5f}%')"
   ]
  },
  {
   "cell_type": "code",
   "execution_count": 17,
   "id": "31c40a73",
   "metadata": {},
   "outputs": [
    {
     "name": "stdout",
     "output_type": "stream",
     "text": [
      "Matriz de Confusão:\n",
      "[[19557     8     0]\n",
      " [   17 19411     0]\n",
      " [    0     5 19416]]\n"
     ]
    }
   ],
   "source": [
    "#Matriz de confusão\n",
    "cm = confusion_matrix(y_test, y_pred)\n",
    "print(\"Matriz de Confusão:\")\n",
    "print(cm)"
   ]
  },
  {
   "cell_type": "code",
   "execution_count": 18,
   "id": "307c0f4b",
   "metadata": {},
   "outputs": [
    {
     "data": {
      "image/png": "[encoded data removed]",
      "text/plain": [
       "<Figure size 640x480 with 2 Axes>"
      ]
     },
     "metadata": {},
     "output_type": "display_data"
    }
   ],
   "source": [
    "from sklearn.metrics import ConfusionMatrixDisplay\n",
    "class_labels = ['-1', '0', '1']\n",
    "\n",
    "disp = ConfusionMatrixDisplay(confusion_matrix=cm, display_labels=class_labels)\n",
    "disp.plot(cmap=plt.cm.Blues)\n",
    "plt.show()\n"
   ]
  },
  {
   "cell_type": "code",
   "execution_count": 19,
   "id": "463fa1c5",
   "metadata": {},
   "outputs": [
    {
     "name": "stdout",
     "output_type": "stream",
     "text": [
      "Precisão: 0.9994865125\n",
      "Recall: 0.9994864245\n",
      "F1-score: 0.9994864417\n"
     ]
    }
   ],
   "source": [
    "#Precisão, Recall e F1-Score\n",
    "\n",
    "precision = precision_score(y_test, y_pred, average='weighted')\n",
    "recall = recall_score(y_test, y_pred, average='weighted')\n",
    "f1 = f1_score(y_test, y_pred, average='weighted')\n",
    "\n",
    "print(f'Precisão: {precision:.10f}')\n",
    "print(f'Recall: {recall:.10f}')\n",
    "print(f'F1-score: {f1:.10f}')"
   ]
  },
  {
   "cell_type": "code",
   "execution_count": 20,
   "id": "e2e5d0f5",
   "metadata": {},
   "outputs": [
    {
     "name": "stdout",
     "output_type": "stream",
     "text": [
      "Pontuações da validação cruzada: [0.79970075 0.92398517 0.94753362 0.96944069 0.89612438]\n"
     ]
    }
   ],
   "source": [
    "#validação cruzada (k-fold com k=5)\n",
    "scores = cross_val_score(best_clf, X_resampled, y_resampled, cv=5)\n",
    "\n",
    "print(\"Pontuações da validação cruzada:\", scores)"
   ]
  },
  {
   "cell_type": "code",
   "execution_count": 21,
   "id": "2da982df",
   "metadata": {},
   "outputs": [
    {
     "name": "stdout",
     "output_type": "stream",
     "text": [
      "Média das pontuações: 0.9073569252\n",
      "Desvio padrão das pontuações: 0.0590949764\n"
     ]
    }
   ],
   "source": [
    "#média e o desvio padrão das pontuações da validação cruzada\n",
    "print(f'Média das pontuações: {scores.mean():.10f}')\n",
    "print(f'Desvio padrão das pontuações: {scores.std():.10f}')"
   ]
  },
  {
   "cell_type": "code",
   "execution_count": 22,
   "id": "6f81c745",
   "metadata": {},
   "outputs": [],
   "source": [
    "#Previsões com base nos valores de entrada\n",
    "def predict_ac_status():\n",
    "    outside_temp = float(entry_outside_temp.get())\n",
    "    temp_103 = float(entry_temp_103.get())\n",
    "    humidity_103 = float(entry_humidity_103.get())\n",
    "    heat_index_103 = float(entry_heat_index_103.get())\n",
    "    occupation = float(entry_occupation.get())\n",
    "\n",
    "    #Previsão com base nos valores inseridos\n",
    "    prediction = best_clf.predict([[outside_temp, temp_103, humidity_103, heat_index_103, occupation]])\n",
    "\n",
    "    # Controlar o resultado para \"Ligar AC em quente\", \"Ligar AC em frio\" ou \"desligar o AC\"\n",
    "    if prediction[0] == -1:\n",
    "        result_label.config(text=\"Ligar AC em quente\")\n",
    "    elif prediction[0] == 1:\n",
    "        result_label.config(text=\"Ligar AC em frio\")\n",
    "    else:\n",
    "        result_label.config(text=\"Desligar o AC\")"
   ]
  },
  {
   "cell_type": "code",
   "execution_count": 23,
   "id": "9d0ed375",
   "metadata": {},
   "outputs": [],
   "source": [
    "#Interface\n",
    "root = tk.Tk()\n",
    "root.title(\"Sistema de Controlo do AC\")\n",
    "\n",
    "frame = tk.Frame(root)\n",
    "frame.pack(padx=20, pady=20)\n",
    "\n",
    "#Entrada dados\n",
    "entry_outside_temp = tk.Entry(frame, width=10, justify='center')\n",
    "entry_temp_103 = tk.Entry(frame, width=10, justify='center')\n",
    "entry_humidity_103 = tk.Entry(frame, width=10, justify='center')\n",
    "entry_heat_index_103 = tk.Entry(frame, width=10, justify='center')\n",
    "entry_occupation = tk.Entry(frame, width=10, justify='center')\n",
    "\n",
    "entry_outside_temp.grid(row=0, column=1)\n",
    "entry_temp_103.grid(row=1, column=1)\n",
    "entry_humidity_103.grid(row=2, column=1)\n",
    "entry_heat_index_103.grid(row=3, column=1)\n",
    "entry_occupation.grid(row=4, column=1)\n",
    "\n",
    "#Título das variáveis\n",
    "tk.Label(frame, text=\"Outside Temperature (x10)(ºC)\").grid(row=0, column=0)\n",
    "tk.Label(frame, text=\"Temperature 103 (x10)(ºC)\").grid(row=1, column=0)\n",
    "tk.Label(frame, text=\"Humidity (x10)(%)\").grid(row=2, column=0)\n",
    "tk.Label(frame, text=\"Heat Index 103 (x10)(ºC)\").grid(row=3, column=0)\n",
    "tk.Label(frame, text=\"Occupation\").grid(row=4, column=0)\n",
    "\n",
    "#Botão 'Prever'\n",
    "predict_button = tk.Button(frame, text=\"Prever\", command=predict_ac_status)\n",
    "predict_button.grid(row=5, columnspan=2)\n",
    "\n",
    "#Resultado\n",
    "result_label = tk.Label(frame, text=\"\")\n",
    "result_label.grid(row=6, columnspan=2)\n",
    "\n",
    "root.mainloop()"
   ]
  }
 ],
 "metadata": {
  "kernelspec": {
   "display_name": "Python 3 (ipykernel)",
   "language": "python",
   "name": "python3"
  },
  "language_info": {
   "codemirror_mode": {
    "name": "ipython",
    "version": 3
   },
   "file_extension": ".py",
   "mimetype": "text/x-python",
   "name": "python",
   "nbconvert_exporter": "python",
   "pygments_lexer": "ipython3",
   "version": "3.12.2"
  }
 },
 "nbformat": 4,
 "nbformat_minor": 5
}
